{
 "cells": [
  {
   "cell_type": "code",
   "execution_count": 1,
   "id": "ac0c3a2c-086a-4d05-964a-09e89c849032",
   "metadata": {
    "tags": []
   },
   "outputs": [],
   "source": [
    "import os\n",
    "import cv2\n",
    "import pandas as pd\n",
    "import numpy as np\n",
    "from sklearn.model_selection import train_test_split\n",
    "from sklearn.decomposition import PCA\n",
    "from sklearn.svm import SVC\n",
    "from sklearn.metrics import accuracy_score"
   ]
  },
  {
   "cell_type": "code",
   "execution_count": 2,
   "id": "c6530cc8-1077-4b43-93c3-dfdfdc70fcb2",
   "metadata": {
    "tags": []
   },
   "outputs": [],
   "source": [
    "# Load the CSV file\n",
    "dataframe = pd.read_csv('file_mapping.csv')\n",
    "\n",
    "# Shuffle the DataFrame\n",
    "dataframe = dataframe.sample(frac=1).reset_index(drop=True)\n",
    "\n",
    "# Define base path\n",
    "base_path = 'input'\n",
    "\n",
    "# Adjust the file paths\n",
    "def adjust_path(path, base_path):\n",
    "    normalize = path.replace('\\\\', '/')\n",
    "    return os.path.join(base_path, normalize.lstrip('/'))\n",
    "\n",
    "# Apply the path adjustment function to create full paths for the images\n",
    "dataframe['adjusted_path'] = dataframe['Filename'].apply(lambda x: adjust_path(x, base_path))\n",
    "\n",
    "# Map labels to binary values (assuming labels are 'Genuine' or 'Fake')\n",
    "dataframe['Label'] = dataframe['Label'].map({'Genuine': 1, 'Fake': 0})\n",
    "\n",
    "# Extract image paths and labels\n",
    "image_paths = dataframe['adjusted_path'].values\n",
    "labels = dataframe['Label'].values\n",
    "\n",
    "# Function to load images and labels\n",
    "def load_images_and_labels(image_paths, labels):\n",
    "    images = []\n",
    "    valid_labels = []\n",
    "\n",
    "    for img_path, label in zip(image_paths, labels):\n",
    "        img = cv2.imread(img_path, cv2.IMREAD_GRAYSCALE)\n",
    "        if img is not None:\n",
    "            images.append(img)\n",
    "            valid_labels.append(label)\n",
    "    \n",
    "    return images, valid_labels\n",
    "\n",
    "# Load the images and corresponding labels\n",
    "images, labels = load_images_and_labels(image_paths, labels)"
   ]
  },
  {
   "cell_type": "code",
   "execution_count": 3,
   "id": "f1e5d525-f9ae-4c98-94be-d2a5a1ea98c4",
   "metadata": {
    "tags": []
   },
   "outputs": [],
   "source": [
    "from sklearn.decomposition import PCA\n",
    "from sklearn.model_selection import train_test_split, GridSearchCV\n",
    "from sklearn.svm import SVC\n",
    "from sklearn.preprocessing import StandardScaler\n",
    "from sklearn.metrics import accuracy_score"
   ]
  },
  {
   "cell_type": "code",
   "execution_count": 4,
   "id": "110cdadd-57ee-46ff-94b1-c3bd050dd7cd",
   "metadata": {
    "tags": []
   },
   "outputs": [
    {
     "name": "stdout",
     "output_type": "stream",
     "text": [
      "Accuracy: 57.26%\n"
     ]
    }
   ],
   "source": [
    "sift = cv2.SIFT_create()\n",
    "\n",
    "def extract_sift_features(images):\n",
    "    features = []\n",
    "    for img in images:\n",
    "        keypoints, descriptors = sift.detectAndCompute(img, None)\n",
    "        if descriptors is not None:\n",
    "            features.append(descriptors)\n",
    "        else:\n",
    "            features.append(np.zeros((1, 128)))  # Placeholder for images with no keypoints\n",
    "    return features\n",
    "\n",
    "# Extract SIFT features from the images\n",
    "features = extract_sift_features(images)\n",
    "\n",
    "# Check if features list is empty or contains valid descriptors\n",
    "if len(features) == 0 or all(len(f) == 0 for f in features):\n",
    "    raise ValueError(\"No valid SIFT descriptors found in the images. Please check your data.\")\n",
    "\n",
    "# Flatten and stack all descriptors\n",
    "all_descriptors = np.vstack(features)\n",
    "\n",
    "# Apply PCA to reduce dimensionality\n",
    "pca = PCA(n_components=50)\n",
    "pca.fit(all_descriptors)\n",
    "\n",
    "# Transform and flatten the features after PCA\n",
    "pca_features = []\n",
    "for desc in features:\n",
    "    pca_transformed = pca.transform(desc)\n",
    "    pca_transformed_flat = pca_transformed.flatten()\n",
    "\n",
    "    # Ensure all vectors are of the same length\n",
    "    # Pad with zeros if necessary\n",
    "    target_length = 50 * len(desc)  # 50 components per keypoint\n",
    "    if len(pca_transformed_flat) < target_length:\n",
    "        pca_transformed_flat = np.pad(pca_transformed_flat, (0, target_length - len(pca_transformed_flat)), 'constant')\n",
    "\n",
    "    pca_features.append(pca_transformed_flat)\n",
    "\n",
    "# Determine the maximum length to pad all features to the same size\n",
    "max_length = max([len(x) for x in pca_features])\n",
    "\n",
    "# Pad each feature vector to the same length\n",
    "X = np.array([np.pad(x, (0, max_length - len(x)), 'constant') for x in pca_features])\n",
    "y = np.array(labels)\n",
    "\n",
    "# Split into training and test sets\n",
    "X_train, X_test, y_train, y_test = train_test_split(X, y, test_size=0.3, random_state=42)\n",
    "\n",
    "# Train a Support Vector Machine (SVM) classifier\n",
    "svm = SVC(kernel='linear')\n",
    "svm.fit(X_train, y_train)\n",
    "\n",
    "# Predict on the test set\n",
    "y_pred = svm.predict(X_test)\n",
    "\n",
    "# Calculate accuracy\n",
    "accuracy = accuracy_score(y_test, y_pred)\n",
    "print(f\"Accuracy: {accuracy * 100:.2f}%\")"
   ]
  },
  {
   "cell_type": "code",
   "execution_count": 5,
   "id": "745dbb7f-0b3e-47e9-bf7b-f0769d0f3b99",
   "metadata": {
    "tags": []
   },
   "outputs": [
    {
     "name": "stdout",
     "output_type": "stream",
     "text": [
      "Predicted label: 1\n"
     ]
    }
   ],
   "source": [
    "def manual_test_image(image, sift, pca, svm, max_length):\n",
    "    # Extract SIFT features\n",
    "    keypoints, descriptors = sift.detectAndCompute(image, None)\n",
    "    \n",
    "    if descriptors is None:\n",
    "        descriptors = np.zeros((1, 128))  # Placeholder if no keypoints are found\n",
    "\n",
    "    # Transform with PCA\n",
    "    pca_transformed = pca.transform(descriptors)\n",
    "    pca_transformed_flat = pca_transformed.flatten()\n",
    "\n",
    "    # Pad the transformed features to match the expected input size\n",
    "    target_length = max_length\n",
    "    if len(pca_transformed_flat) < target_length:\n",
    "        pca_transformed_flat = np.pad(pca_transformed_flat, (0, target_length - len(pca_transformed_flat)), 'constant')\n",
    "\n",
    "    # Convert to numpy array and reshape to match the input shape for the model\n",
    "    test_feature = np.array([pca_transformed_flat])\n",
    "    \n",
    "    # Predict using the trained SVM model\n",
    "    prediction = svm.predict(test_feature)\n",
    "\n",
    "    return prediction[0]\n",
    "\n",
    "# Load the image you want to test\n",
    "test_image_path = 'samp2.jpeg'\n",
    "test_image = cv2.imread(test_image_path, cv2.IMREAD_GRAYSCALE)\n",
    "\n",
    "# Ensure the image is loaded correctly\n",
    "if test_image is None:\n",
    "    raise ValueError(f\"Image not found or failed to load: {test_image_path}\")\n",
    "\n",
    "# Test the model with the image\n",
    "predicted_label = manual_test_image(test_image, sift, pca, svm, max_length)\n",
    "\n",
    "print(f\"Predicted label: {predicted_label}\")\n"
   ]
  },
  {
   "cell_type": "code",
   "execution_count": 6,
   "id": "c91b0814-6470-4f0c-bced-963ce612a0d1",
   "metadata": {
    "tags": []
   },
   "outputs": [
    {
     "data": {
      "image/png": "[encoded data removed]",
      "text/plain": [
       "<Figure size 600x600 with 1 Axes>"
      ]
     },
     "metadata": {},
     "output_type": "display_data"
    }
   ],
   "source": [
    "import matplotlib.pyplot as plt\n",
    "import cv2\n",
    "\n",
    "def show_sift_keypoints(image):\n",
    "    keypoints, _ = sift.detectAndCompute(image, None)\n",
    "    img_with_keypoints = cv2.drawKeypoints(image, keypoints, None)\n",
    "    plt.figure(figsize=(6, 6))\n",
    "    plt.imshow(img_with_keypoints, cmap='gray')\n",
    "    plt.title('SIFT Keypoints')\n",
    "    plt.axis('off')\n",
    "    plt.show()\n",
    "\n",
    "# Load the image\n",
    "test_image_path = 'samp2.jpeg'\n",
    "test_image = cv2.imread(test_image_path, cv2.IMREAD_GRAYSCALE)\n",
    "\n",
    "if test_image is None:\n",
    "    raise ValueError(f\"Image not found or failed to load: {test_image_path}\")\n",
    "\n",
    "# Show SIFT keypoints for the loaded image\n",
    "show_sift_keypoints(test_image)\n"
   ]
  },
  {
   "cell_type": "code",
   "execution_count": null,
   "id": "a49727f3-c56c-4eda-98a5-10ba8e2025f3",
   "metadata": {},
   "outputs": [],
   "source": []
  }
 ],
 "metadata": {
  "kernelspec": {
   "display_name": "Python 3 (ipykernel)",
   "language": "python",
   "name": "python3"
  },
  "language_info": {
   "codemirror_mode": {
    "name": "ipython",
    "version": 3
   },
   "file_extension": ".py",
   "mimetype": "text/x-python",
   "name": "python",
   "nbconvert_exporter": "python",
   "pygments_lexer": "ipython3",
   "version": "3.11.4"
  }
 },
 "nbformat": 4,
 "nbformat_minor": 5
}
