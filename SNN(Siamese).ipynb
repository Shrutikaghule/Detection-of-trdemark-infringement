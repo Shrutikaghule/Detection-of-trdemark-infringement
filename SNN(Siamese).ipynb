{
 "cells": [
  {
   "cell_type": "code",
   "execution_count": 1,
   "id": "2c0f82f8",
   "metadata": {},
   "outputs": [
    {
     "name": "stdout",
     "output_type": "stream",
     "text": [
      "WARNING:tensorflow:From C:\\Users\\ASUS\\AppData\\Local\\Programs\\Python\\Python311\\Lib\\site-packages\\keras\\src\\losses.py:2976: The name tf.losses.sparse_softmax_cross_entropy is deprecated. Please use tf.compat.v1.losses.sparse_softmax_cross_entropy instead.\n",
      "\n"
     ]
    }
   ],
   "source": [
    "import os\n",
    "import numpy as np\n",
    "import cv2\n",
    "import tensorflow as tf\n",
    "from tensorflow.keras import layers, models, optimizers\n",
    "from sklearn.model_selection import train_test_split\n",
    "from sklearn.metrics import confusion_matrix, accuracy_score\n",
    "import seaborn as sns\n",
    "import matplotlib.pyplot as plt"
   ]
  },
  {
   "cell_type": "code",
   "execution_count": 9,
   "id": "0e9ca913",
   "metadata": {},
   "outputs": [],
   "source": [
    "def load_images_from_folder(folder):\n",
    "    images = []\n",
    "    labels = []\n",
    "    for label, subfolder in enumerate(os.listdir(folder)):\n",
    "        subfolder_path = os.path.join(folder, subfolder)\n",
    "        for filename in os.listdir(subfolder_path):\n",
    "            img = cv2.imread(os.path.join(subfolder_path, filename), cv2.IMREAD_GRAYSCALE)\n",
    "            if img is not None:\n",
    "                img = cv2.resize(img, (100, 100))  # Resizing images to the same size\n",
    "                img = np.expand_dims(img, axis=-1)  # Add channel dimension for grayscale images\n",
    "                images.append(img)\n",
    "                labels.append(label)\n",
    "    return np.array(images), np.array(labels)\n",
    "\n",
    "\n",
    "def create_pairs(images, labels):\n",
    "    pairs = []\n",
    "    labels_pair = []\n",
    "    num_classes = len(np.unique(labels))\n",
    "    \n",
    "    # Create positive pairs (same class)\n",
    "    for i in range(len(labels)):\n",
    "        for j in range(i + 1, len(labels)):\n",
    "            if labels[i] == labels[j]:\n",
    "                pairs.append([images[i], images[j]])\n",
    "                labels_pair.append(1)\n",
    "    \n",
    "    # Create negative pairs (different class)\n",
    "    for i in range(len(labels)):\n",
    "        for j in range(i + 1, len(labels)):\n",
    "            if labels[i] != labels[j]:\n",
    "                pairs.append([images[i], images[j]])\n",
    "                labels_pair.append(0)\n",
    "    \n",
    "    return np.array(pairs), np.array(labels_pair)\n",
    "\n"
   ]
  },
  {
   "cell_type": "code",
   "execution_count": 10,
   "id": "466b79d6",
   "metadata": {},
   "outputs": [],
   "source": [
    "# Step 2: Build the Siamese Network model\n",
    "def build_siamese_model(input_shape):\n",
    "    input_layer = layers.Input(input_shape)\n",
    "    x = layers.Conv2D(64, (3, 3), activation='relu')(input_layer)\n",
    "    x = layers.MaxPooling2D()(x)\n",
    "    x = layers.Conv2D(128, (3, 3), activation='relu')(x)\n",
    "    x = layers.MaxPooling2D()(x)\n",
    "    x = layers.Flatten()(x)\n",
    "    x = layers.Dense(128, activation='relu')(x)\n",
    "    x = layers.Dense(64, activation='relu')(x)\n",
    "    model = models.Model(input_layer, x)\n",
    "    return model\n",
    "\n",
    "# Define the distance function for Siamese network\n",
    "def siamese_distance(vectors):\n",
    "    vector1, vector2 = vectors\n",
    "    return tf.math.abs(vector1 - vector2)\n",
    "\n",
    "def build_full_siamese_model(input_shape):\n",
    "    base_model = build_siamese_model(input_shape)\n",
    "    \n",
    "    input1 = layers.Input(input_shape)\n",
    "    input2 = layers.Input(input_shape)\n",
    "    \n",
    "    output1 = base_model(input1)\n",
    "    output2 = base_model(input2)\n",
    "    \n",
    "    distance_layer = layers.Lambda(siamese_distance)([output1, output2])\n",
    "    output_layer = layers.Dense(1, activation='sigmoid')(distance_layer)\n",
    "    \n",
    "    siamese_model = models.Model([input1, input2], output_layer)\n",
    "    \n",
    "    siamese_model.compile(loss='binary_crossentropy', optimizer='adam', metrics=['accuracy'])\n",
    "    \n",
    "    return siamese_model"
   ]
  },
  {
   "cell_type": "code",
   "execution_count": 11,
   "id": "f00dc289",
   "metadata": {},
   "outputs": [],
   "source": [
    "# Step 3: Train the Siamese Network\n",
    "def train_siamese_model(folder_path):\n",
    "    images, labels = load_images_from_folder(folder_path)\n",
    "    pairs, pair_labels = create_pairs(images, labels)\n",
    "    \n",
    "    # Split into training and test sets\n",
    "    pairs_train, pairs_test, labels_train, labels_test = train_test_split(pairs, pair_labels, test_size=0.2, random_state=42)\n",
    "    \n",
    "    # Prepare data for the model\n",
    "    input_shape = pairs_train.shape[2:]\n",
    "    siamese_model = build_full_siamese_model(input_shape)\n",
    "    \n",
    "    siamese_model.fit([pairs_train[:, 0], pairs_train[:, 1]], labels_train, batch_size=32, epochs=10, validation_split=0.2)\n",
    "    \n",
    "    # Step 4: Evaluate the model\n",
    "    predictions = siamese_model.predict([pairs_test[:, 0], pairs_test[:, 1]])\n",
    "    predictions = (predictions > 0.5).astype(int)\n",
    "    \n",
    "    accuracy = accuracy_score(labels_test, predictions)\n",
    "    print(f\"Accuracy: {accuracy * 100:.2f}%\")\n",
    "    \n",
    "    # Confusion Matrix\n",
    "    conf_matrix = confusion_matrix(labels_test, predictions)\n",
    "    plt.figure(figsize=(5, 4))\n",
    "    sns.heatmap(conf_matrix, annot=True, fmt=\"d\", cmap=\"Blues\")\n",
    "    plt.title(\"Confusion Matrix\")\n",
    "    plt.show()\n",
    "\n",
    "    return siamese_model\n"
   ]
  },
  {
   "cell_type": "code",
   "execution_count": 12,
   "id": "d39d6682",
   "metadata": {},
   "outputs": [
    {
     "name": "stdout",
     "output_type": "stream",
     "text": [
      "WARNING:tensorflow:From C:\\Users\\ASUS\\AppData\\Local\\Programs\\Python\\Python311\\Lib\\site-packages\\keras\\src\\layers\\pooling\\max_pooling2d.py:161: The name tf.nn.max_pool is deprecated. Please use tf.nn.max_pool2d instead.\n",
      "\n",
      "WARNING:tensorflow:From C:\\Users\\ASUS\\AppData\\Local\\Programs\\Python\\Python311\\Lib\\site-packages\\keras\\src\\optimizers\\__init__.py:309: The name tf.train.Optimizer is deprecated. Please use tf.compat.v1.train.Optimizer instead.\n",
      "\n",
      "Epoch 1/10\n",
      "WARNING:tensorflow:From C:\\Users\\ASUS\\AppData\\Local\\Programs\\Python\\Python311\\Lib\\site-packages\\keras\\src\\utils\\tf_utils.py:492: The name tf.ragged.RaggedTensorValue is deprecated. Please use tf.compat.v1.ragged.RaggedTensorValue instead.\n",
      "\n",
      "WARNING:tensorflow:From C:\\Users\\ASUS\\AppData\\Local\\Programs\\Python\\Python311\\Lib\\site-packages\\keras\\src\\engine\\base_layer_utils.py:384: The name tf.executing_eagerly_outside_functions is deprecated. Please use tf.compat.v1.executing_eagerly_outside_functions instead.\n",
      "\n",
      "1351/1351 [==============================] - 866s 638ms/step - loss: 0.3502 - accuracy: 0.8881 - val_loss: 0.0243 - val_accuracy: 0.9919\n",
      "Epoch 2/10\n",
      "1351/1351 [==============================] - 854s 632ms/step - loss: 0.0067 - accuracy: 0.9978 - val_loss: 4.0489e-04 - val_accuracy: 0.9998\n",
      "Epoch 3/10\n",
      "1351/1351 [==============================] - 854s 632ms/step - loss: 3.8687e-05 - accuracy: 1.0000 - val_loss: 5.4909e-05 - val_accuracy: 1.0000\n",
      "Epoch 4/10\n",
      "1351/1351 [==============================] - 848s 628ms/step - loss: 4.8783e-06 - accuracy: 1.0000 - val_loss: 4.5466e-05 - val_accuracy: 1.0000\n",
      "Epoch 5/10\n",
      "1351/1351 [==============================] - 869s 643ms/step - loss: 2.3779e-06 - accuracy: 1.0000 - val_loss: 3.4627e-05 - val_accuracy: 1.0000\n",
      "Epoch 6/10\n",
      "1351/1351 [==============================] - 913s 676ms/step - loss: 1.1760e-06 - accuracy: 1.0000 - val_loss: 2.9594e-05 - val_accuracy: 1.0000\n",
      "Epoch 7/10\n",
      "1351/1351 [==============================] - 923s 683ms/step - loss: 5.8396e-07 - accuracy: 1.0000 - val_loss: 2.6693e-05 - val_accuracy: 1.0000\n",
      "Epoch 8/10\n",
      "1351/1351 [==============================] - 644s 476ms/step - loss: 2.9928e-07 - accuracy: 1.0000 - val_loss: 2.2222e-05 - val_accuracy: 1.0000\n",
      "Epoch 9/10\n",
      "1351/1351 [==============================] - 558s 413ms/step - loss: 1.5482e-07 - accuracy: 1.0000 - val_loss: 1.9989e-05 - val_accuracy: 1.0000\n",
      "Epoch 10/10\n",
      "1351/1351 [==============================] - 549s 406ms/step - loss: 7.6538e-08 - accuracy: 1.0000 - val_loss: 1.5316e-05 - val_accuracy: 1.0000\n",
      "423/423 [==============================] - 51s 120ms/step\n",
      "Accuracy: 100.00%\n"
     ]
    },
    {
     "data": {
      "image/png": "[encoded data removed]",
      "text/plain": [
       "<Figure size 500x400 with 2 Axes>"
      ]
     },
     "metadata": {},
     "output_type": "display_data"
    }
   ],
   "source": [
    "\n",
    "# Step 5: Run the model\n",
    "if __name__ == \"__main__\":\n",
    "    folder_path = \"./augmented/\"\n",
    "    siamese_model = train_siamese_model(folder_path)"
   ]
  },
  {
   "cell_type": "code",
   "execution_count": null,
   "id": "6b6cb2fa",
   "metadata": {},
   "outputs": [],
   "source": []
  }
 ],
 "metadata": {
  "kernelspec": {
   "display_name": "Python 3 (ipykernel)",
   "language": "python",
   "name": "python3"
  },
  "language_info": {
   "codemirror_mode": {
    "name": "ipython",
    "version": 3
   },
   "file_extension": ".py",
   "mimetype": "text/x-python",
   "name": "python",
   "nbconvert_exporter": "python",
   "pygments_lexer": "ipython3",
   "version": "3.11.4"
  }
 },
 "nbformat": 4,
 "nbformat_minor": 5
}
